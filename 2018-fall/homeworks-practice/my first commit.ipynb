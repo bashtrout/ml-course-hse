{
 "cells": [
  {
   "cell_type": "code",
   "execution_count": 85,
   "metadata": {},
   "outputs": [
    {
     "name": "stdout",
     "output_type": "stream",
     "text": [
      "Populating the interactive namespace from numpy and matplotlib\n"
     ]
    }
   ],
   "source": [
    "%pylab inline  \n",
    "import pandas as pd"
   ]
  },
  {
   "cell_type": "code",
   "execution_count": 86,
   "metadata": {},
   "outputs": [],
   "source": [
    "data = pd.read_csv('data(1).csv')"
   ]
  },
  {
   "cell_type": "code",
   "execution_count": 87,
   "metadata": {
    "collapsed": true,
    "jupyter": {
     "outputs_hidden": true
    }
   },
   "outputs": [
    {
     "name": "stdout",
     "output_type": "stream",
     "text": [
      "      order_id  quantity            item_name  \\\n",
      "4612      1831         1        Carnitas Bowl   \n",
      "4613      1831         1                Chips   \n",
      "4614      1831         1        Bottled Water   \n",
      "4615      1832         1   Chicken Soft Tacos   \n",
      "4616      1832         1  Chips and Guacamole   \n",
      "4617      1833         1        Steak Burrito   \n",
      "4618      1833         1        Steak Burrito   \n",
      "4619      1834         1   Chicken Salad Bowl   \n",
      "4620      1834         1   Chicken Salad Bowl   \n",
      "4621      1834         1   Chicken Salad Bowl   \n",
      "\n",
      "                                     choice_description item_price  \n",
      "4612  [Fresh Tomato Salsa, [Fajita Vegetables, Rice,...     $9.25   \n",
      "4613                                                NaN     $2.15   \n",
      "4614                                                NaN     $1.50   \n",
      "4615   [Fresh Tomato Salsa, [Rice, Cheese, Sour Cream]]     $8.75   \n",
      "4616                                                NaN     $4.45   \n",
      "4617  [Fresh Tomato Salsa, [Rice, Black Beans, Sour ...    $11.75   \n",
      "4618  [Fresh Tomato Salsa, [Rice, Sour Cream, Cheese...    $11.75   \n",
      "4619  [Fresh Tomato Salsa, [Fajita Vegetables, Pinto...    $11.25   \n",
      "4620  [Fresh Tomato Salsa, [Fajita Vegetables, Lettu...     $8.75   \n",
      "4621  [Fresh Tomato Salsa, [Fajita Vegetables, Pinto...     $8.75   \n"
     ]
    }
   ],
   "source": [
    "print (data.tail(10))"
   ]
  },
  {
   "cell_type": "code",
   "execution_count": 88,
   "metadata": {
    "collapsed": true,
    "jupyter": {
     "outputs_hidden": true
    }
   },
   "outputs": [
    {
     "name": "stdout",
     "output_type": "stream",
     "text": [
      "      order_id  quantity                              item_name  \\\n",
      "0            1         1           Chips and Fresh Tomato Salsa   \n",
      "1            1         1                                   Izze   \n",
      "2            1         1                       Nantucket Nectar   \n",
      "3            1         1  Chips and Tomatillo-Green Chili Salsa   \n",
      "4            2         2                           Chicken Bowl   \n",
      "5            3         1                           Chicken Bowl   \n",
      "6            3         1                          Side of Chips   \n",
      "7            4         1                          Steak Burrito   \n",
      "8            4         1                       Steak Soft Tacos   \n",
      "9            5         1                          Steak Burrito   \n",
      "10           5         1                    Chips and Guacamole   \n",
      "11           6         1                   Chicken Crispy Tacos   \n",
      "12           6         1                     Chicken Soft Tacos   \n",
      "13           7         1                           Chicken Bowl   \n",
      "14           7         1                    Chips and Guacamole   \n",
      "15           8         1  Chips and Tomatillo-Green Chili Salsa   \n",
      "16           8         1                        Chicken Burrito   \n",
      "17           9         1                        Chicken Burrito   \n",
      "18           9         2                            Canned Soda   \n",
      "19          10         1                           Chicken Bowl   \n",
      "20          10         1                    Chips and Guacamole   \n",
      "21          11         1                       Barbacoa Burrito   \n",
      "22          11         1                       Nantucket Nectar   \n",
      "23          12         1                        Chicken Burrito   \n",
      "24          12         1                                   Izze   \n",
      "25          13         1           Chips and Fresh Tomato Salsa   \n",
      "26          13         1                           Chicken Bowl   \n",
      "27          14         1                       Carnitas Burrito   \n",
      "28          14         1                            Canned Soda   \n",
      "29          15         1                        Chicken Burrito   \n",
      "...        ...       ...                                    ...   \n",
      "4592      1825         1                       Barbacoa Burrito   \n",
      "4593      1825         1                          Carnitas Bowl   \n",
      "4594      1825         1                          Barbacoa Bowl   \n",
      "4595      1826         1                           Chicken Bowl   \n",
      "4596      1826         1                    Chips and Guacamole   \n",
      "4597      1826         1                      Canned Soft Drink   \n",
      "4598      1826         1                          Bottled Water   \n",
      "4599      1827         1                           Chicken Bowl   \n",
      "4600      1827         1                    Chips and Guacamole   \n",
      "4601      1827         1                      Canned Soft Drink   \n",
      "4602      1827         1                       Barbacoa Burrito   \n",
      "4603      1827         1                       Barbacoa Burrito   \n",
      "4604      1828         1                           Chicken Bowl   \n",
      "4605      1828         1                    Chips and Guacamole   \n",
      "4606      1828         1                      Canned Soft Drink   \n",
      "4607      1829         1                          Steak Burrito   \n",
      "4608      1829         1                         Veggie Burrito   \n",
      "4609      1829         1                      Canned Soft Drink   \n",
      "4610      1830         1                          Steak Burrito   \n",
      "4611      1830         1                         Veggie Burrito   \n",
      "4612      1831         1                          Carnitas Bowl   \n",
      "4613      1831         1                                  Chips   \n",
      "4614      1831         1                          Bottled Water   \n",
      "4615      1832         1                     Chicken Soft Tacos   \n",
      "4616      1832         1                    Chips and Guacamole   \n",
      "4617      1833         1                          Steak Burrito   \n",
      "4618      1833         1                          Steak Burrito   \n",
      "4619      1834         1                     Chicken Salad Bowl   \n",
      "4620      1834         1                     Chicken Salad Bowl   \n",
      "4621      1834         1                     Chicken Salad Bowl   \n",
      "\n",
      "                                     choice_description item_price  \n",
      "0                                                   NaN     $2.39   \n",
      "1                                          [Clementine]     $3.39   \n",
      "2                                               [Apple]     $3.39   \n",
      "3                                                   NaN     $2.39   \n",
      "4     [Tomatillo-Red Chili Salsa (Hot), [Black Beans...    $16.98   \n",
      "5     [Fresh Tomato Salsa (Mild), [Rice, Cheese, Sou...    $10.98   \n",
      "6                                                   NaN     $1.69   \n",
      "7     [Tomatillo Red Chili Salsa, [Fajita Vegetables...    $11.75   \n",
      "8     [Tomatillo Green Chili Salsa, [Pinto Beans, Ch...     $9.25   \n",
      "9     [Fresh Tomato Salsa, [Rice, Black Beans, Pinto...     $9.25   \n",
      "10                                                  NaN     $4.45   \n",
      "11    [Roasted Chili Corn Salsa, [Fajita Vegetables,...     $8.75   \n",
      "12    [Roasted Chili Corn Salsa, [Rice, Black Beans,...     $8.75   \n",
      "13    [Fresh Tomato Salsa, [Fajita Vegetables, Rice,...    $11.25   \n",
      "14                                                  NaN     $4.45   \n",
      "15                                                  NaN     $2.39   \n",
      "16    [Tomatillo-Green Chili Salsa (Medium), [Pinto ...     $8.49   \n",
      "17    [Fresh Tomato Salsa (Mild), [Black Beans, Rice...     $8.49   \n",
      "18                                             [Sprite]     $2.18   \n",
      "19    [Tomatillo Red Chili Salsa, [Fajita Vegetables...     $8.75   \n",
      "20                                                  NaN     $4.45   \n",
      "21    [[Fresh Tomato Salsa (Mild), Tomatillo-Green C...     $8.99   \n",
      "22                                 [Pomegranate Cherry]     $3.39   \n",
      "23    [[Tomatillo-Green Chili Salsa (Medium), Tomati...    $10.98   \n",
      "24                                         [Grapefruit]     $3.39   \n",
      "25                                                  NaN     $2.39   \n",
      "26    [Roasted Chili Corn Salsa (Medium), [Pinto Bea...     $8.49   \n",
      "27    [[Tomatillo-Green Chili Salsa (Medium), Roaste...     $8.99   \n",
      "28                                         [Dr. Pepper]     $1.09   \n",
      "29    [Tomatillo-Green Chili Salsa (Medium), [Pinto ...     $8.49   \n",
      "...                                                 ...        ...  \n",
      "4592  [Tomatillo Red Chili Salsa, [Rice, Fajita Vege...    $11.75   \n",
      "4593  [Roasted Chili Corn Salsa, [Rice, Sour Cream, ...    $11.75   \n",
      "4594  [Roasted Chili Corn Salsa, [Pinto Beans, Sour ...    $11.75   \n",
      "4595  [Tomatillo Green Chili Salsa, [Rice, Black Bea...     $8.75   \n",
      "4596                                                NaN     $4.45   \n",
      "4597                                           [Nestea]     $1.25   \n",
      "4598                                                NaN     $1.50   \n",
      "4599      [Roasted Chili Corn Salsa, [Cheese, Lettuce]]     $8.75   \n",
      "4600                                                NaN     $4.45   \n",
      "4601                                        [Diet Coke]     $1.25   \n",
      "4602                      [Tomatillo Green Chili Salsa]     $9.25   \n",
      "4603                      [Tomatillo Green Chili Salsa]     $9.25   \n",
      "4604  [Fresh Tomato Salsa, [Rice, Black Beans, Chees...     $8.75   \n",
      "4605                                                NaN     $4.45   \n",
      "4606                                             [Coke]     $1.25   \n",
      "4607  [Tomatillo Green Chili Salsa, [Rice, Cheese, S...    $11.75   \n",
      "4608  [Tomatillo Red Chili Salsa, [Fajita Vegetables...    $11.25   \n",
      "4609                                           [Sprite]     $1.25   \n",
      "4610  [Fresh Tomato Salsa, [Rice, Sour Cream, Cheese...    $11.75   \n",
      "4611  [Tomatillo Green Chili Salsa, [Rice, Fajita Ve...    $11.25   \n",
      "4612  [Fresh Tomato Salsa, [Fajita Vegetables, Rice,...     $9.25   \n",
      "4613                                                NaN     $2.15   \n",
      "4614                                                NaN     $1.50   \n",
      "4615   [Fresh Tomato Salsa, [Rice, Cheese, Sour Cream]]     $8.75   \n",
      "4616                                                NaN     $4.45   \n",
      "4617  [Fresh Tomato Salsa, [Rice, Black Beans, Sour ...    $11.75   \n",
      "4618  [Fresh Tomato Salsa, [Rice, Sour Cream, Cheese...    $11.75   \n",
      "4619  [Fresh Tomato Salsa, [Fajita Vegetables, Pinto...    $11.25   \n",
      "4620  [Fresh Tomato Salsa, [Fajita Vegetables, Lettu...     $8.75   \n",
      "4621  [Fresh Tomato Salsa, [Fajita Vegetables, Pinto...     $8.75   \n",
      "\n",
      "[4622 rows x 5 columns]\n"
     ]
    }
   ],
   "source": [
    "print(data)"
   ]
  },
  {
   "cell_type": "code",
   "execution_count": 89,
   "metadata": {},
   "outputs": [],
   "source": [
    "datatail =data.tail(10) "
   ]
  },
  {
   "cell_type": "code",
   "execution_count": 90,
   "metadata": {},
   "outputs": [
    {
     "name": "stdout",
     "output_type": "stream",
     "text": [
      "4612    1831\n",
      "4613    1831\n",
      "4614    1831\n",
      "4615    1832\n",
      "4616    1832\n",
      "4617    1833\n",
      "4618    1833\n",
      "4619    1834\n",
      "4620    1834\n",
      "4621    1834\n",
      "Name: order_id, dtype: int64\n"
     ]
    }
   ],
   "source": [
    "print (datatail.order_id)"
   ]
  },
  {
   "cell_type": "code",
   "execution_count": 91,
   "metadata": {},
   "outputs": [],
   "source": [
    "from collections import Counter"
   ]
  },
  {
   "cell_type": "code",
   "execution_count": 92,
   "metadata": {},
   "outputs": [],
   "source": [
    "order_quan = len (Counter (datatail.order_id))"
   ]
  },
  {
   "cell_type": "code",
   "execution_count": 93,
   "metadata": {},
   "outputs": [
    {
     "name": "stdout",
     "output_type": "stream",
     "text": [
      "4\n"
     ]
    }
   ],
   "source": [
    "print (order_quan)"
   ]
  },
  {
   "cell_type": "code",
   "execution_count": 94,
   "metadata": {
    "collapsed": true,
    "jupyter": {
     "outputs_hidden": true
    }
   },
   "outputs": [
    {
     "name": "stdout",
     "output_type": "stream",
     "text": [
      "4612          Carnitas Bowl\n",
      "4613                  Chips\n",
      "4614          Bottled Water\n",
      "4615     Chicken Soft Tacos\n",
      "4616    Chips and Guacamole\n",
      "4617          Steak Burrito\n",
      "4618          Steak Burrito\n",
      "4619     Chicken Salad Bowl\n",
      "4620     Chicken Salad Bowl\n",
      "4621     Chicken Salad Bowl\n",
      "Name: item_name, dtype: object\n"
     ]
    }
   ],
   "source": [
    "print (datatail.item_name)"
   ]
  },
  {
   "cell_type": "code",
   "execution_count": 95,
   "metadata": {},
   "outputs": [],
   "source": [
    "item_name_quan = len (Counter (datatail.item_name))"
   ]
  },
  {
   "cell_type": "code",
   "execution_count": 96,
   "metadata": {},
   "outputs": [
    {
     "name": "stdout",
     "output_type": "stream",
     "text": [
      "7\n"
     ]
    }
   ],
   "source": [
    "print (item_name_quan)"
   ]
  },
  {
   "cell_type": "code",
   "execution_count": 97,
   "metadata": {},
   "outputs": [
    {
     "name": "stdout",
     "output_type": "stream",
     "text": [
      "['order_id', 'quantity', 'item_name', 'choice_description', 'item_price']\n"
     ]
    }
   ],
   "source": [
    "print ((list(data.columns.values)))"
   ]
  },
  {
   "cell_type": "code",
   "execution_count": 98,
   "metadata": {},
   "outputs": [
    {
     "name": "stdout",
     "output_type": "stream",
     "text": [
      "(array([], dtype=int64),)\n"
     ]
    }
   ],
   "source": [
    "print ((np.where(pd.isnull(data.order_id))))"
   ]
  },
  {
   "cell_type": "code",
   "execution_count": 99,
   "metadata": {},
   "outputs": [
    {
     "name": "stdout",
     "output_type": "stream",
     "text": [
      "(array([], dtype=int64),)\n"
     ]
    }
   ],
   "source": [
    "print ((np.where(pd.isnull(data.quantity))))"
   ]
  },
  {
   "cell_type": "code",
   "execution_count": 100,
   "metadata": {},
   "outputs": [
    {
     "name": "stdout",
     "output_type": "stream",
     "text": [
      "(array([], dtype=int64),)\n"
     ]
    }
   ],
   "source": [
    "print ((np.where(pd.isnull(data.item_name))))"
   ]
  },
  {
   "cell_type": "code",
   "execution_count": 101,
   "metadata": {},
   "outputs": [
    {
     "name": "stdout",
     "output_type": "stream",
     "text": [
      "(array([   0,    3,    6, ..., 4613, 4614, 4616]),)\n"
     ]
    }
   ],
   "source": [
    "print ((np.where(pd.isnull(data.choice_description))))"
   ]
  },
  {
   "cell_type": "code",
   "execution_count": 102,
   "metadata": {},
   "outputs": [
    {
     "name": "stdout",
     "output_type": "stream",
     "text": [
      "(array([], dtype=int64),)\n"
     ]
    }
   ],
   "source": [
    "print ((np.where(pd.isnull(data.item_price))))"
   ]
  },
  {
   "cell_type": "code",
   "execution_count": 103,
   "metadata": {},
   "outputs": [],
   "source": [
    "new_data = data.assign(clean_price = data.item_price)"
   ]
  },
  {
   "cell_type": "code",
   "execution_count": 104,
   "metadata": {},
   "outputs": [],
   "source": [
    "new_data['clean_price'] = new_data['clean_price'].str.extract(\"([-+]?\\d*\\.\\d+|[-+]?\\d+)\").astype(float)"
   ]
  },
  {
   "cell_type": "code",
   "execution_count": 105,
   "metadata": {
    "collapsed": true,
    "jupyter": {
     "outputs_hidden": true
    }
   },
   "outputs": [
    {
     "name": "stdout",
     "output_type": "stream",
     "text": [
      "0        2.39\n",
      "1        3.39\n",
      "2        3.39\n",
      "3        2.39\n",
      "4       16.98\n",
      "5       10.98\n",
      "6        1.69\n",
      "7       11.75\n",
      "8        9.25\n",
      "9        9.25\n",
      "10       4.45\n",
      "11       8.75\n",
      "12       8.75\n",
      "13      11.25\n",
      "14       4.45\n",
      "15       2.39\n",
      "16       8.49\n",
      "17       8.49\n",
      "18       2.18\n",
      "19       8.75\n",
      "20       4.45\n",
      "21       8.99\n",
      "22       3.39\n",
      "23      10.98\n",
      "24       3.39\n",
      "25       2.39\n",
      "26       8.49\n",
      "27       8.99\n",
      "28       1.09\n",
      "29       8.49\n",
      "        ...  \n",
      "4592    11.75\n",
      "4593    11.75\n",
      "4594    11.75\n",
      "4595     8.75\n",
      "4596     4.45\n",
      "4597     1.25\n",
      "4598     1.50\n",
      "4599     8.75\n",
      "4600     4.45\n",
      "4601     1.25\n",
      "4602     9.25\n",
      "4603     9.25\n",
      "4604     8.75\n",
      "4605     4.45\n",
      "4606     1.25\n",
      "4607    11.75\n",
      "4608    11.25\n",
      "4609     1.25\n",
      "4610    11.75\n",
      "4611    11.25\n",
      "4612     9.25\n",
      "4613     2.15\n",
      "4614     1.50\n",
      "4615     8.75\n",
      "4616     4.45\n",
      "4617    11.75\n",
      "4618    11.75\n",
      "4619    11.25\n",
      "4620     8.75\n",
      "4621     8.75\n",
      "Name: clean_price, Length: 4622, dtype: float64\n"
     ]
    }
   ],
   "source": [
    "print (new_data.clean_price)"
   ]
  },
  {
   "cell_type": "code",
   "execution_count": 106,
   "metadata": {},
   "outputs": [
    {
     "name": "stdout",
     "output_type": "stream",
     "text": [
      "max price = 44.25 min price 1.09 average price 7.46\n"
     ]
    }
   ],
   "source": [
    "print ('max price =', max(new_data.clean_price),\n",
    "      'min price', min(new_data.clean_price),\n",
    "      'average price', round(mean(new_data.clean_price),2))"
   ]
  },
  {
   "cell_type": "code",
   "execution_count": 107,
   "metadata": {},
   "outputs": [],
   "source": [
    "del new_data['item_price']"
   ]
  },
  {
   "cell_type": "code",
   "execution_count": 108,
   "metadata": {
    "collapsed": true,
    "jupyter": {
     "outputs_hidden": true
    }
   },
   "outputs": [
    {
     "name": "stdout",
     "output_type": "stream",
     "text": [
      "      order_id  quantity                              item_name  \\\n",
      "0            1         1           Chips and Fresh Tomato Salsa   \n",
      "1            1         1                                   Izze   \n",
      "2            1         1                       Nantucket Nectar   \n",
      "3            1         1  Chips and Tomatillo-Green Chili Salsa   \n",
      "4            2         2                           Chicken Bowl   \n",
      "5            3         1                           Chicken Bowl   \n",
      "6            3         1                          Side of Chips   \n",
      "7            4         1                          Steak Burrito   \n",
      "8            4         1                       Steak Soft Tacos   \n",
      "9            5         1                          Steak Burrito   \n",
      "10           5         1                    Chips and Guacamole   \n",
      "11           6         1                   Chicken Crispy Tacos   \n",
      "12           6         1                     Chicken Soft Tacos   \n",
      "13           7         1                           Chicken Bowl   \n",
      "14           7         1                    Chips and Guacamole   \n",
      "15           8         1  Chips and Tomatillo-Green Chili Salsa   \n",
      "16           8         1                        Chicken Burrito   \n",
      "17           9         1                        Chicken Burrito   \n",
      "18           9         2                            Canned Soda   \n",
      "19          10         1                           Chicken Bowl   \n",
      "20          10         1                    Chips and Guacamole   \n",
      "21          11         1                       Barbacoa Burrito   \n",
      "22          11         1                       Nantucket Nectar   \n",
      "23          12         1                        Chicken Burrito   \n",
      "24          12         1                                   Izze   \n",
      "25          13         1           Chips and Fresh Tomato Salsa   \n",
      "26          13         1                           Chicken Bowl   \n",
      "27          14         1                       Carnitas Burrito   \n",
      "28          14         1                            Canned Soda   \n",
      "29          15         1                        Chicken Burrito   \n",
      "...        ...       ...                                    ...   \n",
      "4592      1825         1                       Barbacoa Burrito   \n",
      "4593      1825         1                          Carnitas Bowl   \n",
      "4594      1825         1                          Barbacoa Bowl   \n",
      "4595      1826         1                           Chicken Bowl   \n",
      "4596      1826         1                    Chips and Guacamole   \n",
      "4597      1826         1                      Canned Soft Drink   \n",
      "4598      1826         1                          Bottled Water   \n",
      "4599      1827         1                           Chicken Bowl   \n",
      "4600      1827         1                    Chips and Guacamole   \n",
      "4601      1827         1                      Canned Soft Drink   \n",
      "4602      1827         1                       Barbacoa Burrito   \n",
      "4603      1827         1                       Barbacoa Burrito   \n",
      "4604      1828         1                           Chicken Bowl   \n",
      "4605      1828         1                    Chips and Guacamole   \n",
      "4606      1828         1                      Canned Soft Drink   \n",
      "4607      1829         1                          Steak Burrito   \n",
      "4608      1829         1                         Veggie Burrito   \n",
      "4609      1829         1                      Canned Soft Drink   \n",
      "4610      1830         1                          Steak Burrito   \n",
      "4611      1830         1                         Veggie Burrito   \n",
      "4612      1831         1                          Carnitas Bowl   \n",
      "4613      1831         1                                  Chips   \n",
      "4614      1831         1                          Bottled Water   \n",
      "4615      1832         1                     Chicken Soft Tacos   \n",
      "4616      1832         1                    Chips and Guacamole   \n",
      "4617      1833         1                          Steak Burrito   \n",
      "4618      1833         1                          Steak Burrito   \n",
      "4619      1834         1                     Chicken Salad Bowl   \n",
      "4620      1834         1                     Chicken Salad Bowl   \n",
      "4621      1834         1                     Chicken Salad Bowl   \n",
      "\n",
      "                                     choice_description  clean_price  \n",
      "0                                                   NaN         2.39  \n",
      "1                                          [Clementine]         3.39  \n",
      "2                                               [Apple]         3.39  \n",
      "3                                                   NaN         2.39  \n",
      "4     [Tomatillo-Red Chili Salsa (Hot), [Black Beans...        16.98  \n",
      "5     [Fresh Tomato Salsa (Mild), [Rice, Cheese, Sou...        10.98  \n",
      "6                                                   NaN         1.69  \n",
      "7     [Tomatillo Red Chili Salsa, [Fajita Vegetables...        11.75  \n",
      "8     [Tomatillo Green Chili Salsa, [Pinto Beans, Ch...         9.25  \n",
      "9     [Fresh Tomato Salsa, [Rice, Black Beans, Pinto...         9.25  \n",
      "10                                                  NaN         4.45  \n",
      "11    [Roasted Chili Corn Salsa, [Fajita Vegetables,...         8.75  \n",
      "12    [Roasted Chili Corn Salsa, [Rice, Black Beans,...         8.75  \n",
      "13    [Fresh Tomato Salsa, [Fajita Vegetables, Rice,...        11.25  \n",
      "14                                                  NaN         4.45  \n",
      "15                                                  NaN         2.39  \n",
      "16    [Tomatillo-Green Chili Salsa (Medium), [Pinto ...         8.49  \n",
      "17    [Fresh Tomato Salsa (Mild), [Black Beans, Rice...         8.49  \n",
      "18                                             [Sprite]         2.18  \n",
      "19    [Tomatillo Red Chili Salsa, [Fajita Vegetables...         8.75  \n",
      "20                                                  NaN         4.45  \n",
      "21    [[Fresh Tomato Salsa (Mild), Tomatillo-Green C...         8.99  \n",
      "22                                 [Pomegranate Cherry]         3.39  \n",
      "23    [[Tomatillo-Green Chili Salsa (Medium), Tomati...        10.98  \n",
      "24                                         [Grapefruit]         3.39  \n",
      "25                                                  NaN         2.39  \n",
      "26    [Roasted Chili Corn Salsa (Medium), [Pinto Bea...         8.49  \n",
      "27    [[Tomatillo-Green Chili Salsa (Medium), Roaste...         8.99  \n",
      "28                                         [Dr. Pepper]         1.09  \n",
      "29    [Tomatillo-Green Chili Salsa (Medium), [Pinto ...         8.49  \n",
      "...                                                 ...          ...  \n",
      "4592  [Tomatillo Red Chili Salsa, [Rice, Fajita Vege...        11.75  \n",
      "4593  [Roasted Chili Corn Salsa, [Rice, Sour Cream, ...        11.75  \n",
      "4594  [Roasted Chili Corn Salsa, [Pinto Beans, Sour ...        11.75  \n",
      "4595  [Tomatillo Green Chili Salsa, [Rice, Black Bea...         8.75  \n",
      "4596                                                NaN         4.45  \n",
      "4597                                           [Nestea]         1.25  \n",
      "4598                                                NaN         1.50  \n",
      "4599      [Roasted Chili Corn Salsa, [Cheese, Lettuce]]         8.75  \n",
      "4600                                                NaN         4.45  \n",
      "4601                                        [Diet Coke]         1.25  \n",
      "4602                      [Tomatillo Green Chili Salsa]         9.25  \n",
      "4603                      [Tomatillo Green Chili Salsa]         9.25  \n",
      "4604  [Fresh Tomato Salsa, [Rice, Black Beans, Chees...         8.75  \n",
      "4605                                                NaN         4.45  \n",
      "4606                                             [Coke]         1.25  \n",
      "4607  [Tomatillo Green Chili Salsa, [Rice, Cheese, S...        11.75  \n",
      "4608  [Tomatillo Red Chili Salsa, [Fajita Vegetables...        11.25  \n",
      "4609                                           [Sprite]         1.25  \n",
      "4610  [Fresh Tomato Salsa, [Rice, Sour Cream, Cheese...        11.75  \n",
      "4611  [Tomatillo Green Chili Salsa, [Rice, Fajita Ve...        11.25  \n",
      "4612  [Fresh Tomato Salsa, [Fajita Vegetables, Rice,...         9.25  \n",
      "4613                                                NaN         2.15  \n",
      "4614                                                NaN         1.50  \n",
      "4615   [Fresh Tomato Salsa, [Rice, Cheese, Sour Cream]]         8.75  \n",
      "4616                                                NaN         4.45  \n",
      "4617  [Fresh Tomato Salsa, [Rice, Black Beans, Sour ...        11.75  \n",
      "4618  [Fresh Tomato Salsa, [Rice, Sour Cream, Cheese...        11.75  \n",
      "4619  [Fresh Tomato Salsa, [Fajita Vegetables, Pinto...        11.25  \n",
      "4620  [Fresh Tomato Salsa, [Fajita Vegetables, Lettu...         8.75  \n",
      "4621  [Fresh Tomato Salsa, [Fajita Vegetables, Pinto...         8.75  \n",
      "\n",
      "[4622 rows x 5 columns]\n"
     ]
    }
   ],
   "source": [
    "print (new_data)"
   ]
  },
  {
   "cell_type": "code",
   "execution_count": 109,
   "metadata": {},
   "outputs": [],
   "source": [
    "new_data['quantity_in_cd'] = new_data['choice_description'].str.count(',') + 1\n",
    "sort_new_data = new_data.sort_values('quantity_in_cd')"
   ]
  },
  {
   "cell_type": "code",
   "execution_count": 110,
   "metadata": {
    "collapsed": true,
    "jupyter": {
     "outputs_hidden": true
    }
   },
   "outputs": [
    {
     "name": "stdout",
     "output_type": "stream",
     "text": [
      "      order_id  quantity            item_name    choice_description  \\\n",
      "1            1         1                 Izze          [Clementine]   \n",
      "3242      1298         2    Canned Soft Drink           [Diet Coke]   \n",
      "3233      1293         1    Canned Soft Drink                [Coke]   \n",
      "695        286         1    Canned Soft Drink           [Diet Coke]   \n",
      "3221      1288         1          Canned Soda        [Mountain Dew]   \n",
      "1356       553         1     Nantucket Nectar  [Pomegranate Cherry]   \n",
      "698        287         2          Canned Soda           [Coca Cola]   \n",
      "3210      1283         1    Canned Soft Drink           [Diet Coke]   \n",
      "689        284         3    Canned Soft Drink           [Diet Coke]   \n",
      "700        288         2          Canned Soda           [Coca Cola]   \n",
      "709        291         1    Canned Soft Drink            [Lemonade]   \n",
      "3186      1274         1    Canned Soft Drink                [Coke]   \n",
      "716        295         1    Canned Soft Drink           [Diet Coke]   \n",
      "720        297         1    Canned Soft Drink                [Coke]   \n",
      "721        298         1    6 Pack Soft Drink              [Nestea]   \n",
      "1831       740         1    Canned Soft Drink           [Diet Coke]   \n",
      "724        299         1      Chicken Burrito  [Fresh Tomato Salsa]   \n",
      "704        289         1    Canned Soft Drink            [Lemonade]   \n",
      "3250      1301         1    Canned Soft Drink           [Diet Coke]   \n",
      "684        282         1    Canned Soft Drink                [Coke]   \n",
      "3254      1303         1          Canned Soda              [Sprite]   \n",
      "3330      1333         1    Canned Soft Drink              [Sprite]   \n",
      "639        264         1    6 Pack Soft Drink           [Diet Coke]   \n",
      "3318      1330         1     Nantucket Nectar        [Peach Orange]   \n",
      "3312      1327         1    Canned Soft Drink              [Sprite]   \n",
      "646        267         1          Canned Soda              [Sprite]   \n",
      "3311      1327         1         Chicken Bowl  [Fresh Tomato Salsa]   \n",
      "3310      1327         1   Chicken Salad Bowl  [Fresh Tomato Salsa]   \n",
      "651        270         2    Canned Soft Drink                [Coke]   \n",
      "3307      1325         1    Canned Soft Drink              [Nestea]   \n",
      "...        ...       ...                  ...                   ...   \n",
      "4507      1792         1        Bottled Water                   NaN   \n",
      "4509      1793         1                Chips                   NaN   \n",
      "4512      1794         1  Chips and Guacamole                   NaN   \n",
      "4515      1795         1  Chips and Guacamole                   NaN   \n",
      "4517      1796         1        Bottled Water                   NaN   \n",
      "4525      1799         1                Chips                   NaN   \n",
      "4529      1800         1  Chips and Guacamole                   NaN   \n",
      "4531      1801         1  Chips and Guacamole                   NaN   \n",
      "4534      1803         1  Chips and Guacamole                   NaN   \n",
      "4539      1804         1  Chips and Guacamole                   NaN   \n",
      "4542      1806         1        Bottled Water                   NaN   \n",
      "4544      1806         1        Bottled Water                   NaN   \n",
      "4548      1808         1  Chips and Guacamole                   NaN   \n",
      "4551      1809         1  Chips and Guacamole                   NaN   \n",
      "4563      1814         1  Chips and Guacamole                   NaN   \n",
      "4567      1816         1  Chips and Guacamole                   NaN   \n",
      "4568      1817         1        Bottled Water                   NaN   \n",
      "4570      1817         1        Bottled Water                   NaN   \n",
      "4575      1819         1  Chips and Guacamole                   NaN   \n",
      "4579      1821         1  Chips and Guacamole                   NaN   \n",
      "4582      1822         2        Bottled Water                   NaN   \n",
      "4584      1823         1                Chips                   NaN   \n",
      "4588      1824         1  Chips and Guacamole                   NaN   \n",
      "4596      1826         1  Chips and Guacamole                   NaN   \n",
      "4598      1826         1        Bottled Water                   NaN   \n",
      "4600      1827         1  Chips and Guacamole                   NaN   \n",
      "4605      1828         1  Chips and Guacamole                   NaN   \n",
      "4613      1831         1                Chips                   NaN   \n",
      "4614      1831         1        Bottled Water                   NaN   \n",
      "4616      1832         1  Chips and Guacamole                   NaN   \n",
      "\n",
      "      clean_price  quantity_in_cd  \n",
      "1            3.39             1.0  \n",
      "3242         2.50             1.0  \n",
      "3233         1.25             1.0  \n",
      "695          1.25             1.0  \n",
      "3221         1.09             1.0  \n",
      "1356         3.39             1.0  \n",
      "698          2.18             1.0  \n",
      "3210         1.25             1.0  \n",
      "689          3.75             1.0  \n",
      "700          2.18             1.0  \n",
      "709          1.25             1.0  \n",
      "3186         1.25             1.0  \n",
      "716          1.25             1.0  \n",
      "720          1.25             1.0  \n",
      "721          6.49             1.0  \n",
      "1831         1.25             1.0  \n",
      "724          8.75             1.0  \n",
      "704          1.25             1.0  \n",
      "3250         1.25             1.0  \n",
      "684          1.25             1.0  \n",
      "3254         1.09             1.0  \n",
      "3330         1.25             1.0  \n",
      "639          6.49             1.0  \n",
      "3318         3.39             1.0  \n",
      "3312         1.25             1.0  \n",
      "646          1.09             1.0  \n",
      "3311         8.75             1.0  \n",
      "3310         8.75             1.0  \n",
      "651          2.50             1.0  \n",
      "3307         1.25             1.0  \n",
      "...           ...             ...  \n",
      "4507         1.50             NaN  \n",
      "4509         1.99             NaN  \n",
      "4512         4.45             NaN  \n",
      "4515         4.45             NaN  \n",
      "4517         1.50             NaN  \n",
      "4525         2.15             NaN  \n",
      "4529         4.45             NaN  \n",
      "4531         4.45             NaN  \n",
      "4534         4.45             NaN  \n",
      "4539         4.45             NaN  \n",
      "4542         1.50             NaN  \n",
      "4544         1.50             NaN  \n",
      "4548         4.45             NaN  \n",
      "4551         4.45             NaN  \n",
      "4563         4.45             NaN  \n",
      "4567         4.45             NaN  \n",
      "4568         1.50             NaN  \n",
      "4570         1.50             NaN  \n",
      "4575         4.45             NaN  \n",
      "4579         4.45             NaN  \n",
      "4582         3.00             NaN  \n",
      "4584         2.15             NaN  \n",
      "4588         4.45             NaN  \n",
      "4596         4.45             NaN  \n",
      "4598         1.50             NaN  \n",
      "4600         4.45             NaN  \n",
      "4605         4.45             NaN  \n",
      "4613         2.15             NaN  \n",
      "4614         1.50             NaN  \n",
      "4616         4.45             NaN  \n",
      "\n",
      "[4622 rows x 6 columns]\n"
     ]
    }
   ],
   "source": [
    "print (sort_new_data)"
   ]
  },
  {
   "cell_type": "code",
   "execution_count": 111,
   "metadata": {},
   "outputs": [],
   "source": [
    "fives = sort_new_data.loc[sort_new_data.quantity_in_cd == 5]"
   ]
  },
  {
   "cell_type": "code",
   "execution_count": 112,
   "metadata": {
    "collapsed": true,
    "jupyter": {
     "outputs_hidden": true
    }
   },
   "outputs": [
    {
     "name": "stdout",
     "output_type": "stream",
     "text": [
      "      order_id  quantity            item_name  \\\n",
      "3083      1228         1           Steak Bowl   \n",
      "3085      1229         1   Steak Crispy Tacos   \n",
      "643        266         1          Veggie Bowl   \n",
      "3097      1235         1      Chicken Burrito   \n",
      "3069      1222         1   Chicken Salad Bowl   \n",
      "640        265         1      Chicken Burrito   \n",
      "3313      1328         1        Steak Burrito   \n",
      "3326      1332         1         Chicken Bowl   \n",
      "3197      1279         1        Steak Burrito   \n",
      "1517       618         1        Steak Burrito   \n",
      "810        334         1      Chicken Burrito   \n",
      "808        333         1        Steak Burrito   \n",
      "2994      1191         1        Steak Burrito   \n",
      "806        332         1        Steak Burrito   \n",
      "2997      1192         1        Steak Burrito   \n",
      "3001      1193         1   Chicken Salad Bowl   \n",
      "3016      1199         1           Steak Bowl   \n",
      "3019      1201         1         Chicken Bowl   \n",
      "3031      1206         1     Barbacoa Burrito   \n",
      "3334      1336         3           Steak Bowl   \n",
      "3347      1342         1      Chicken Burrito   \n",
      "631        260         1       Veggie Burrito   \n",
      "3047      1213         1           Steak Bowl   \n",
      "3051      1215         1         Chicken Bowl   \n",
      "781        322         1    Veggie Soft Tacos   \n",
      "636        263         1      Chicken Burrito   \n",
      "3341      1340         1  Carnitas Soft Tacos   \n",
      "3338      1338         1        Carnitas Bowl   \n",
      "3060      1219         1     Barbacoa Burrito   \n",
      "3337      1338         1           Steak Bowl   \n",
      "...        ...       ...                  ...   \n",
      "2414       957         1      Chicken Burrito   \n",
      "1469       597         1        Steak Burrito   \n",
      "1474       599         1         Chicken Bowl   \n",
      "1476       600         1   Chicken Soft Tacos   \n",
      "1588       643         2         Chicken Bowl   \n",
      "1575       638         1         Chicken Bowl   \n",
      "1569       636         1      Chicken Burrito   \n",
      "1069       440         1        Steak Burrito   \n",
      "1054       434         1      Chicken Burrito   \n",
      "2398       953         1     Barbacoa Burrito   \n",
      "1489       605         1   Chicken Soft Tacos   \n",
      "1598       648         1         Chicken Bowl   \n",
      "1499       609         1         Chicken Bowl   \n",
      "1503       611         1           Steak Bowl   \n",
      "2393       951         1      Chicken Burrito   \n",
      "1602       649         1         Chicken Bowl   \n",
      "2390       950         1        Steak Burrito   \n",
      "1055       434         1     Barbacoa Burrito   \n",
      "2396       952         1         Chicken Bowl   \n",
      "1039       428         1           Steak Bowl   \n",
      "1584       641         1     Barbacoa Burrito   \n",
      "2463       977         1      Chicken Burrito   \n",
      "2366       942         1      Chicken Burrito   \n",
      "2361       940         1         Chicken Bowl   \n",
      "1521       620         1        Steak Burrito   \n",
      "1520       619         1      Chicken Burrito   \n",
      "1038       427         1       Veggie Burrito   \n",
      "1515       617         1         Chicken Bowl   \n",
      "2363       941         1         Chicken Bowl   \n",
      "1525       622         1         Chicken Bowl   \n",
      "\n",
      "                                     choice_description  clean_price  \\\n",
      "3083  [Roasted Chili Corn Salsa, [Rice, Black Beans,...         9.25   \n",
      "3085  [Fresh Tomato Salsa, [Black Beans, Cheese, Sou...         9.25   \n",
      "643   [Fresh Tomato Salsa (Mild), [Pinto Beans, Rice...         8.49   \n",
      "3097  [Fresh Tomato Salsa, [Rice, Cheese, Sour Cream...         8.75   \n",
      "3069  [Fresh Tomato Salsa, [Fajita Vegetables, Black...         8.75   \n",
      "640   [Tomatillo Red Chili Salsa, [Rice, Black Beans...         8.75   \n",
      "3313  [Fresh Tomato Salsa, [Rice, Cheese, Sour Cream...        11.75   \n",
      "3326  [Fresh Tomato Salsa, [Rice, Cheese, Sour Cream...         8.75   \n",
      "3197  [Fresh Tomato Salsa, [Guacamole, Lettuce, Sour...        11.75   \n",
      "1517  [Fresh Tomato Salsa, [Rice, Sour Cream, Guacam...        11.75   \n",
      "810   [Fresh Tomato Salsa, [Rice, Black Beans, Chees...         8.75   \n",
      "808   [Fresh Tomato Salsa, [Fajita Vegetables, Rice,...         9.25   \n",
      "2994  [Fresh Tomato Salsa, [Pinto Beans, Cheese, Sou...        11.75   \n",
      "806   [Roasted Chili Corn Salsa (Medium), [Rice, Bla...         8.99   \n",
      "2997  [Roasted Chili Corn Salsa (Medium), [Rice, Faj...         8.99   \n",
      "3001  [Tomatillo Red Chili Salsa, [Fajita Vegetables...        11.25   \n",
      "3016  [Tomatillo-Red Chili Salsa (Hot), [Rice, Chees...        11.48   \n",
      "3019  [Tomatillo-Red Chili Salsa (Hot), [Cheese, Let...         8.49   \n",
      "3031  [Roasted Chili Corn Salsa, [Rice, Pinto Beans,...        11.75   \n",
      "3334  [Tomatillo Green Chili (Medium), [Rice, Black ...        26.07   \n",
      "3347  [Fresh Tomato Salsa, [Rice, Black Beans, Lettu...         8.75   \n",
      "631   [Fresh Tomato Salsa (Mild), [Pinto Beans, Rice...         8.49   \n",
      "3047  [Fresh Tomato Salsa (Mild), [Rice, Cheese, Sou...         8.99   \n",
      "3051  [[Tomatillo-Red Chili Salsa (Hot), Tomatillo-G...         8.49   \n",
      "781   [Fresh Tomato Salsa, [Black Beans, Cheese, Sou...         8.75   \n",
      "636   [Fresh Tomato Salsa, [Rice, Pinto Beans, Chees...         8.75   \n",
      "3341  [Roasted Chili Corn Salsa, [Rice, Cheese, Sour...         9.25   \n",
      "3338  [[Roasted Chili Corn Salsa (Medium), Tomatillo...         8.99   \n",
      "3060  [Roasted Chili Corn Salsa, [Rice, Cheese, Sour...         9.25   \n",
      "3337  [[Tomatillo-Red Chili Salsa (Hot), Fresh Tomat...         8.99   \n",
      "...                                                 ...          ...   \n",
      "2414  [Fresh Tomato Salsa, [Rice, Cheese, Sour Cream...        11.25   \n",
      "1469  [Fresh Tomato Salsa, [Rice, Sour Cream, Guacam...        11.75   \n",
      "1474  [Fresh Tomato Salsa (Mild), [Black Beans, Rice...        10.98   \n",
      "1476  [Roasted Chili Corn Salsa, [Rice, Cheese, Lett...        11.25   \n",
      "1588  [Fresh Tomato Salsa, [Fajita Vegetables, Rice,...        17.50   \n",
      "1575  [Roasted Chili Corn Salsa, [Rice, Fajita Veget...         8.75   \n",
      "1569  [Tomatillo Green Chili Salsa, [Rice, Pinto Bea...         8.75   \n",
      "1069  [Roasted Chili Corn Salsa, [Rice, Pinto Beans,...         9.25   \n",
      "1054  [Fresh Tomato Salsa, [Fajita Vegetables, Rice,...         8.75   \n",
      "2398  [Fresh Tomato Salsa, [Rice, Pinto Beans, Chees...         9.25   \n",
      "1489  [Tomatillo-Red Chili Salsa (Hot), [Fajita Vegg...        10.98   \n",
      "1598  [Tomatillo Green Chili Salsa, [Rice, Pinto Bea...         8.75   \n",
      "1499  [Fresh Tomato Salsa, [Fajita Vegetables, Pinto...        11.25   \n",
      "1503  [Tomatillo Red Chili Salsa, [Rice, Cheese, Sou...         9.25   \n",
      "2393  [Fresh Tomato Salsa, [Rice, Black Beans, Chees...        11.25   \n",
      "1602  [Tomatillo Green Chili Salsa, [Rice, Cheese, S...         8.75   \n",
      "2390  [Fresh Tomato Salsa (Mild), [Pinto Beans, Rice...         8.99   \n",
      "1055  [Tomatillo Green Chili Salsa, [Rice, Pinto Bea...        11.75   \n",
      "2396  [Fresh Tomato Salsa, [Rice, Cheese, Sour Cream...         8.75   \n",
      "1039  [Roasted Chili Corn Salsa, [Rice, Black Beans,...        11.75   \n",
      "1584  [Tomatillo-Green Chili Salsa (Medium), [Rice, ...         8.99   \n",
      "2463  [Fresh Tomato Salsa (Mild), [Black Beans, Rice...        10.98   \n",
      "2366  [Roasted Chili Corn Salsa (Medium), [Rice, Faj...         8.49   \n",
      "2361  [Fresh Tomato Salsa, [Rice, Black Beans, Chees...         8.75   \n",
      "1521  [Fresh Tomato Salsa, [Rice, Sour Cream, Guacam...        11.75   \n",
      "1520  [Fresh Tomato Salsa, [Rice, Black Beans, Chees...         8.75   \n",
      "1038  [Fresh Tomato Salsa (Mild), [Pinto Beans, Rice...         8.49   \n",
      "1515  [Fresh Tomato Salsa, [Sour Cream, Lettuce, Ric...         8.75   \n",
      "2363  [Tomatillo Green Chili Salsa, [Rice, Cheese, S...        11.25   \n",
      "1525  [Tomatillo Green Chili Salsa, [Rice, Sour Crea...        11.25   \n",
      "\n",
      "      quantity_in_cd  \n",
      "3083             5.0  \n",
      "3085             5.0  \n",
      "643              5.0  \n",
      "3097             5.0  \n",
      "3069             5.0  \n",
      "640              5.0  \n",
      "3313             5.0  \n",
      "3326             5.0  \n",
      "3197             5.0  \n",
      "1517             5.0  \n",
      "810              5.0  \n",
      "808              5.0  \n",
      "2994             5.0  \n",
      "806              5.0  \n",
      "2997             5.0  \n",
      "3001             5.0  \n",
      "3016             5.0  \n",
      "3019             5.0  \n",
      "3031             5.0  \n",
      "3334             5.0  \n",
      "3347             5.0  \n",
      "631              5.0  \n",
      "3047             5.0  \n",
      "3051             5.0  \n",
      "781              5.0  \n",
      "636              5.0  \n",
      "3341             5.0  \n",
      "3338             5.0  \n",
      "3060             5.0  \n",
      "3337             5.0  \n",
      "...              ...  \n",
      "2414             5.0  \n",
      "1469             5.0  \n",
      "1474             5.0  \n",
      "1476             5.0  \n",
      "1588             5.0  \n",
      "1575             5.0  \n",
      "1569             5.0  \n",
      "1069             5.0  \n",
      "1054             5.0  \n",
      "2398             5.0  \n",
      "1489             5.0  \n",
      "1598             5.0  \n",
      "1499             5.0  \n",
      "1503             5.0  \n",
      "2393             5.0  \n",
      "1602             5.0  \n",
      "2390             5.0  \n",
      "1055             5.0  \n",
      "2396             5.0  \n",
      "1039             5.0  \n",
      "1584             5.0  \n",
      "2463             5.0  \n",
      "2366             5.0  \n",
      "2361             5.0  \n",
      "1521             5.0  \n",
      "1520             5.0  \n",
      "1038             5.0  \n",
      "1515             5.0  \n",
      "2363             5.0  \n",
      "1525             5.0  \n",
      "\n",
      "[757 rows x 6 columns]\n"
     ]
    }
   ],
   "source": [
    "print (fives)"
   ]
  },
  {
   "cell_type": "code",
   "execution_count": 113,
   "metadata": {
    "collapsed": true,
    "jupyter": {
     "outputs_hidden": true
    }
   },
   "outputs": [
    {
     "name": "stdout",
     "output_type": "stream",
     "text": [
      "five cheap order\n",
      "      order_id  quantity           item_name  \\\n",
      "3903      1564         1     Chicken Burrito   \n",
      "132         58         1     Chicken Burrito   \n",
      "813        335         1      Veggie Burrito   \n",
      "834        344         1     Chicken Burrito   \n",
      "2151       867         1  Chicken Soft Tacos   \n",
      "\n",
      "                                     choice_description  clean_price  \\\n",
      "3903  [Fresh Tomato (Mild), [Black Beans, Rice, Sour...         8.19   \n",
      "132   [Tomatillo-Green Chili Salsa (Medium), [Pinto ...         8.49   \n",
      "813   [Fresh Tomato Salsa (Mild), [Cheese, Rice, Pin...         8.49   \n",
      "834   [Tomatillo-Green Chili Salsa (Medium), [Black ...         8.49   \n",
      "2151  [Fresh Tomato Salsa (Mild), [Pinto Beans, Rice...         8.49   \n",
      "\n",
      "      quantity_in_cd  \n",
      "3903             5.0  \n",
      "132              5.0  \n",
      "813              5.0  \n",
      "834              5.0  \n",
      "2151             5.0  \n"
     ]
    }
   ],
   "source": [
    "sort_fives = fives.sort_values('clean_price')\n",
    "print ('five cheap order')\n",
    "print (sort_fives.head(5))"
   ]
  },
  {
   "cell_type": "code",
   "execution_count": 114,
   "metadata": {
    "collapsed": true,
    "jupyter": {
     "outputs_hidden": true
    }
   },
   "outputs": [
    {
     "name": "stdout",
     "output_type": "stream",
     "text": [
      "five expensive order\n",
      "      order_id  quantity        item_name  \\\n",
      "445        193         3             Bowl   \n",
      "2510       997         2     Chicken Bowl   \n",
      "3334      1336         3       Steak Bowl   \n",
      "3603      1443         3    Steak Burrito   \n",
      "3602      1443         4  Chicken Burrito   \n",
      "\n",
      "                                     choice_description  clean_price  \\\n",
      "445   [Braised Carnitas, Pinto Beans, [Sour Cream, C...        22.20   \n",
      "2510  [Roasted Chili Corn Salsa, [Rice, Black Beans,...        22.50   \n",
      "3334  [Tomatillo Green Chili (Medium), [Rice, Black ...        26.07   \n",
      "3603  [Fresh Tomato Salsa, [Rice, Black Beans, Chees...        27.75   \n",
      "3602  [Fresh Tomato Salsa, [Rice, Black Beans, Chees...        35.00   \n",
      "\n",
      "      quantity_in_cd  \n",
      "445              5.0  \n",
      "2510             5.0  \n",
      "3334             5.0  \n",
      "3603             5.0  \n",
      "3602             5.0  \n"
     ]
    }
   ],
   "source": [
    "print ('five expensive order')\n",
    "print (sort_fives.tail(5))"
   ]
  },
  {
   "cell_type": "code",
   "execution_count": 152,
   "metadata": {},
   "outputs": [],
   "source": [
    "two_chicken_bowl = data.loc[(data.item_name == 'Chicken Bowl')&(data.quantity >= 2)]"
   ]
  },
  {
   "cell_type": "code",
   "execution_count": 156,
   "metadata": {},
   "outputs": [
    {
     "name": "stdout",
     "output_type": "stream",
     "text": [
      "(33, 5)\n"
     ]
    }
   ],
   "source": [
    "print(two_chicken_bowl.shape)"
   ]
  },
  {
   "cell_type": "code",
   "execution_count": 167,
   "metadata": {},
   "outputs": [
    {
     "name": "stdout",
     "output_type": "stream",
     "text": [
      "average price 7.46\n",
      "average auntity 4.67\n"
     ]
    }
   ],
   "source": [
    "print ('average price', round(mean(new_data.clean_price),2))\n",
    "print ('average auntity', round(mean(new_data.quantity_in_cd),2))"
   ]
  },
  {
   "cell_type": "code",
   "execution_count": 170,
   "metadata": {},
   "outputs": [
    {
     "name": "stdout",
     "output_type": "stream",
     "text": [
      "(549, 6)\n"
     ]
    }
   ],
   "source": [
    "alone_cd = new_data.loc[new_data.quantity_in_cd == 1]\n",
    "print (alone_cd.shape)"
   ]
  },
  {
   "cell_type": "code",
   "execution_count": 180,
   "metadata": {},
   "outputs": [],
   "source": [
    "uniq_item_name =  Counter (data.item_name)"
   ]
  },
  {
   "cell_type": "code",
   "execution_count": 181,
   "metadata": {},
   "outputs": [
    {
     "name": "stdout",
     "output_type": "stream",
     "text": [
      "Counter({'Chicken Bowl': 726, 'Chicken Burrito': 553, 'Chips and Guacamole': 479, 'Steak Burrito': 368, 'Canned Soft Drink': 301, 'Chips': 211, 'Steak Bowl': 211, 'Bottled Water': 162, 'Chicken Soft Tacos': 115, 'Chips and Fresh Tomato Salsa': 110, 'Chicken Salad Bowl': 110, 'Canned Soda': 104, 'Side of Chips': 101, 'Veggie Burrito': 95, 'Barbacoa Burrito': 91, 'Veggie Bowl': 85, 'Carnitas Bowl': 68, 'Barbacoa Bowl': 66, 'Carnitas Burrito': 59, 'Steak Soft Tacos': 55, '6 Pack Soft Drink': 54, 'Chips and Tomatillo Red Chili Salsa': 48, 'Chicken Crispy Tacos': 47, 'Chips and Tomatillo Green Chili Salsa': 43, 'Carnitas Soft Tacos': 40, 'Steak Crispy Tacos': 35, 'Chips and Tomatillo-Green Chili Salsa': 31, 'Steak Salad Bowl': 29, 'Nantucket Nectar': 27, 'Barbacoa Soft Tacos': 25, 'Chips and Roasted Chili Corn Salsa': 22, 'Chips and Tomatillo-Red Chili Salsa': 20, 'Izze': 20, 'Chips and Roasted Chili-Corn Salsa': 18, 'Veggie Salad Bowl': 18, 'Barbacoa Crispy Tacos': 11, 'Barbacoa Salad Bowl': 10, 'Chicken Salad': 9, 'Veggie Soft Tacos': 7, 'Carnitas Crispy Tacos': 7, 'Carnitas Salad Bowl': 6, 'Burrito': 6, 'Veggie Salad': 6, 'Steak Salad': 4, 'Bowl': 2, 'Crispy Tacos': 2, 'Salad': 2, 'Veggie Crispy Tacos': 1, 'Carnitas Salad': 1, 'Chips and Mild Fresh Tomato Salsa': 1})\n",
      "50\n"
     ]
    }
   ],
   "source": [
    "print (uniq_item_name)\n",
    "print (len(uniq_item_name))"
   ]
  },
  {
   "cell_type": "code",
   "execution_count": null,
   "metadata": {},
   "outputs": [],
   "source": []
  }
 ],
 "metadata": {
  "kernelspec": {
   "display_name": "Python 3",
   "language": "python",
   "name": "python3"
  },
  "language_info": {
   "codemirror_mode": {
    "name": "ipython",
    "version": 3
   },
   "file_extension": ".py",
   "mimetype": "text/x-python",
   "name": "python",
   "nbconvert_exporter": "python",
   "pygments_lexer": "ipython3",
   "version": "3.5.2"
  }
 },
 "nbformat": 4,
 "nbformat_minor": 4
}
